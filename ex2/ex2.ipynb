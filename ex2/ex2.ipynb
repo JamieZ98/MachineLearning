{
 "cells": [
  {
   "cell_type": "markdown",
   "metadata": {},
   "source": [
    "# Logistic regression"
   ]
  },
  {
   "cell_type": "markdown",
   "metadata": {},
   "source": [
    "## Visualizing the data"
   ]
  },
  {
   "cell_type": "code",
   "execution_count": null,
   "metadata": {
    "ExecuteTime": {
     "end_time": "2021-05-01T15:51:26.760361Z",
     "start_time": "2021-05-01T15:51:26.212801Z"
    }
   },
   "outputs": [],
   "source": [
    "# 在开始实现任何学习算法之前，如果可能的话，最好将数据可视化\n",
    "import numpy as np\n",
    "import pandas as pd\n",
    "import matplotlib.pyplot as plt"
   ]
  },
  {
   "cell_type": "code",
   "execution_count": null,
   "metadata": {
    "ExecuteTime": {
     "end_time": "2021-05-01T15:51:26.791279Z",
     "start_time": "2021-05-01T15:51:26.762355Z"
    }
   },
   "outputs": [],
   "source": [
    "names = ['exam1', 'exam2', 'admitted']\n",
    "data = pd.read_csv('ex2data1.txt', names=names)\n",
    "data"
   ]
  },
  {
   "cell_type": "code",
   "execution_count": null,
   "metadata": {
    "ExecuteTime": {
     "end_time": "2021-05-01T15:51:26.822201Z",
     "start_time": "2021-05-01T15:51:26.793274Z"
    }
   },
   "outputs": [],
   "source": [
    "data.describe()"
   ]
  },
  {
   "cell_type": "code",
   "execution_count": null,
   "metadata": {
    "ExecuteTime": {
     "end_time": "2021-05-01T15:51:26.947897Z",
     "start_time": "2021-05-01T15:51:26.824190Z"
    }
   },
   "outputs": [],
   "source": [
    "# 两个分数的散点图，并使用颜色编码来可视化，如果样本是正的（被接纳）或负的（未被接纳）\n",
    "positive = data[data['admitted'] == 1]\n",
    "negetive = data[data['admitted'] == 0]\n",
    "\n",
    "fig, ax = plt.subplots(figsize=(6, 5))\n",
    "ax.scatter(positive['exam1'], positive['exam2'],\n",
    "           color='b', marker='o', label='Admitted')\n",
    "ax.scatter(negetive['exam1'], negetive['exam2'],\n",
    "           color='r', marker='x', label='Not Admitted')\n",
    "# 设置图例显示在图的上方\n",
    "box = ax.get_position()\n",
    "ax.set_position([box.x0, box.y0, box.width, box.height * 0.8])\n",
    "ax.legend(loc='center left', bbox_to_anchor=(0.2, 1.12), ncol=3)\n",
    "# 设置横纵坐标名\n",
    "ax.set_xlabel('Exam 1 Score')\n",
    "ax.set_ylabel('Exam 2 Score')\n",
    "plt.show()\n",
    "# 看起来在两类间，有一个清晰的决策边界。现在我们需要实现逻辑回归，那样就可以训练一个模型来预测结果"
   ]
  },
  {
   "cell_type": "markdown",
   "metadata": {},
   "source": [
    "## Sigmoid function"
   ]
  },
  {
   "cell_type": "code",
   "execution_count": null,
   "metadata": {
    "ExecuteTime": {
     "end_time": "2021-05-01T15:51:27.041701Z",
     "start_time": "2021-05-01T15:51:26.948855Z"
    }
   },
   "outputs": [],
   "source": [
    "def sigmoid(z):\n",
    "    return 1/(1+np.exp(-z))\n",
    "\n",
    "\n",
    "# 做一个快速的检查，来确保它可以工作\n",
    "x1 = np.arange(-10, 10, 0.1)\n",
    "plt.plot(x1, sigmoid(x1),'r')\n",
    "plt.show()"
   ]
  },
  {
   "cell_type": "markdown",
   "metadata": {},
   "source": [
    "## Cost function"
   ]
  },
  {
   "cell_type": "code",
   "execution_count": null,
   "metadata": {
    "ExecuteTime": {
     "end_time": "2021-05-01T15:51:27.057654Z",
     "start_time": "2021-05-01T15:51:27.043651Z"
    }
   },
   "outputs": [],
   "source": [
    "# 逻辑回归的代价函数\n",
    "def cost(theta, X, y):\n",
    "    return ((-y)*np.log(sigmoid(X.dot(theta.T)))-(1-y)*np.log(1-sigmoid(X.dot(theta.T)))).mean()"
   ]
  },
  {
   "cell_type": "code",
   "execution_count": null,
   "metadata": {
    "ExecuteTime": {
     "end_time": "2021-05-01T15:51:27.072570Z",
     "start_time": "2021-05-01T15:51:27.059605Z"
    }
   },
   "outputs": [],
   "source": [
    "# add a ones column - this makes the matrix multiplication work out easier\n",
    "if 'Ones' not in data.columns:\n",
    "    data.insert(0, 'Ones', 1)\n",
    "\n",
    "# set X (training data) and y (target variable)\n",
    "# Convert the frame to its Numpy-array representation.\n",
    "X = np.array(data.iloc[:, :-1])\n",
    "# Return is NOT a Numpy-matrix, rather, a Numpy-array.\n",
    "y = np.array(data.iloc[:, -1])\n",
    "\n",
    "theta = np.zeros(X.shape[1])"
   ]
  },
  {
   "cell_type": "code",
   "execution_count": null,
   "metadata": {
    "ExecuteTime": {
     "end_time": "2021-05-01T15:51:27.087567Z",
     "start_time": "2021-05-01T15:51:27.073572Z"
    }
   },
   "outputs": [],
   "source": [
    "cost(theta,X,y)"
   ]
  },
  {
   "cell_type": "markdown",
   "metadata": {},
   "source": [
    "## Gradient"
   ]
  },
  {
   "cell_type": "code",
   "execution_count": null,
   "metadata": {
    "ExecuteTime": {
     "end_time": "2021-05-01T15:51:27.103529Z",
     "start_time": "2021-05-01T15:51:27.088596Z"
    }
   },
   "outputs": [],
   "source": [
    "def gradient(theta, X, y):\n",
    "    return X.T.dot((sigmoid(X.dot(theta.T))-y))/len(y)\n",
    "\n",
    "\n",
    "# the gradient of the cost is a vector of the same length as θ where the jth element (for j = 0, 1, . . . , n)\n",
    "gradient(theta, X, y)"
   ]
  },
  {
   "cell_type": "markdown",
   "metadata": {},
   "source": [
    "## Learning θ parameters"
   ]
  },
  {
   "cell_type": "code",
   "execution_count": null,
   "metadata": {
    "ExecuteTime": {
     "end_time": "2021-05-01T15:51:27.320906Z",
     "start_time": "2021-05-01T15:51:27.106507Z"
    }
   },
   "outputs": [],
   "source": [
    "import scipy.optimize as opt\n",
    "result = opt.fmin_tnc(func=cost, x0=theta, fprime=gradient, args=(X, y))\n",
    "result"
   ]
  },
  {
   "cell_type": "markdown",
   "metadata": {},
   "source": [
    "## Evaluating logistic regression"
   ]
  },
  {
   "cell_type": "code",
   "execution_count": null,
   "metadata": {
    "ExecuteTime": {
     "end_time": "2021-05-01T15:51:27.336864Z",
     "start_time": "2021-05-01T15:51:27.322901Z"
    }
   },
   "outputs": [],
   "source": [
    "def predict(theta, X):\n",
    "    probability = sigmoid(X.dot(theta.T))\n",
    "    return [1 if i >= 0.5 else 0 for i in probability]  # return a list"
   ]
  },
  {
   "cell_type": "code",
   "execution_count": null,
   "metadata": {
    "ExecuteTime": {
     "end_time": "2021-05-01T15:51:27.352821Z",
     "start_time": "2021-05-01T15:51:27.338860Z"
    }
   },
   "outputs": [],
   "source": [
    "final_theta = result[0]\n",
    "predictions = predict(final_theta, X)\n",
    "correct = [1 if a == b else 0 for (a, b) in zip(predictions, y)]\n",
    "accuracy = sum(correct)/len(correct)\n",
    "accuracy"
   ]
  },
  {
   "cell_type": "code",
   "execution_count": null,
   "metadata": {
    "ExecuteTime": {
     "end_time": "2021-05-01T15:51:27.604196Z",
     "start_time": "2021-05-01T15:51:27.354816Z"
    }
   },
   "outputs": [],
   "source": [
    "from sklearn.metrics import classification_report\n",
    "print(classification_report(predictions, y))"
   ]
  },
  {
   "cell_type": "markdown",
   "metadata": {},
   "source": [
    "## Decision boundary（决策边界）"
   ]
  },
  {
   "cell_type": "code",
   "execution_count": null,
   "metadata": {
    "ExecuteTime": {
     "end_time": "2021-05-01T15:53:15.635063Z",
     "start_time": "2021-05-01T15:53:15.527963Z"
    }
   },
   "outputs": [],
   "source": [
    "# Decision boundary\n",
    "x1 = np.arange(130, step=0.1)\n",
    "x2 = -(final_theta[0]+final_theta[1]*x1)/final_theta[2]\n",
    "\n",
    "fig, ax = plt.subplots(figsize=(8, 5))\n",
    "ax.scatter(positive['exam1'], positive['exam2'],\n",
    "           color='b', marker='o', label='Admitted')\n",
    "ax.scatter(negetive['exam1'], negetive['exam2'],\n",
    "           color='r', marker='x', label='Not Admitted')\n",
    "ax.plot(x1, x2,color='orange')\n",
    "ax.set_xlim(0, 130)\n",
    "ax.set_ylim(0, 130)\n",
    "ax.set_xlabel('x1')\n",
    "ax.set_ylabel('x2')\n",
    "ax.set_title('Decision Boundary')\n",
    "plt.show()"
   ]
  },
  {
   "cell_type": "markdown",
   "metadata": {},
   "source": [
    "# Regularized logistic regression"
   ]
  },
  {
   "cell_type": "markdown",
   "metadata": {},
   "source": [
    "## Visualizing the data"
   ]
  },
  {
   "cell_type": "code",
   "execution_count": null,
   "metadata": {
    "ExecuteTime": {
     "end_time": "2021-05-01T15:51:27.728399Z",
     "start_time": "2021-05-01T15:51:27.714469Z"
    }
   },
   "outputs": [],
   "source": [
    "names = ['Test 1', 'Test 2', 'Accepted']\n",
    "data2 = pd.read_csv('ex2data2.txt', names=names)\n",
    "data2.head()"
   ]
  },
  {
   "cell_type": "code",
   "execution_count": null,
   "metadata": {
    "ExecuteTime": {
     "end_time": "2021-05-01T15:51:27.871051Z",
     "start_time": "2021-05-01T15:51:27.730422Z"
    }
   },
   "outputs": [],
   "source": [
    "def plot_data2():\n",
    "    positive = data2[data2['Accepted'].isin([1])]\n",
    "    negative = data2[data2['Accepted'].isin([0])]\n",
    "\n",
    "    fig, ax = plt.subplots(figsize=(8, 5))\n",
    "    ax.scatter(positive['Test 1'], positive['Test 2'],\n",
    "               s=50, c='b', marker='o', label='Accepted')\n",
    "    ax.scatter(negative['Test 1'], negative['Test 2'],\n",
    "               s=50, c='r', marker='x', label='Rejected')\n",
    "    ax.legend()\n",
    "    ax.set_xlabel('Test 1 Score')\n",
    "    ax.set_ylabel('Test 2 Score')\n",
    "\n",
    "\n",
    "plot_data2()\n",
    "# 注意到其中的正负两类数据并没有线性的决策界限。因此直接用logistic回归在这个数据集上并不能表现良好，因为它只能用来寻找一个线性的决策边界"
   ]
  },
  {
   "cell_type": "markdown",
   "metadata": {},
   "source": [
    "## Feature mapping\n",
    "一个拟合数据的更好的方法是从每个数据点创建更多的特征。\n",
    "我们将把这些特征映射到所有的x1和x2的多项式项上，直到第六次幂。"
   ]
  },
  {
   "cell_type": "code",
   "execution_count": null,
   "metadata": {
    "ExecuteTime": {
     "end_time": "2021-05-01T15:51:27.887008Z",
     "start_time": "2021-05-01T15:51:27.872080Z"
    }
   },
   "outputs": [],
   "source": [
    "def feature_mapping(x1, x2, power):\n",
    "    data = {}\n",
    "    for i in np.arange(power+1):\n",
    "        for p in np.arange(i+1):\n",
    "            data[\"f{}{}\".format(i-p, p)] = np.power(x1, i-p)*np.power(x2, p)\n",
    "#     data = {\"f{}{}\".format(i - p, p): np.power(x1, i - p) * np.power(x2, p)\n",
    "#                 for i in np.arange(power + 1)\n",
    "#                 for p in np.arange(i + 1)\n",
    "#             }\n",
    "    return pd.DataFrame(data)"
   ]
  },
  {
   "cell_type": "code",
   "execution_count": null,
   "metadata": {
    "ExecuteTime": {
     "end_time": "2021-05-01T15:51:27.918923Z",
     "start_time": "2021-05-01T15:51:27.887970Z"
    }
   },
   "outputs": [],
   "source": [
    "x1 = np.array(data2['Test 1'])\n",
    "x2 = np.array(data2['Test 2'])\n",
    "_data2 = feature_mapping(x1, x2, power=6)\n",
    "_data2.head()"
   ]
  },
  {
   "cell_type": "markdown",
   "metadata": {},
   "source": [
    "经过映射，我们将有两个特征的向量转化成了一个28维的向量。\n",
    "\n",
    "在这个高维特征向量上训练的logistic回归分类器将会有一个更复杂的决策边界，当我们在二维图中绘制时，会出现非线性。\n",
    "\n",
    "虽然特征映射允许我们构建一个更有表现力的分类器，但它也更容易过拟合。在接下来的练习中，我们将实现正则化的logistic回归来拟合数据，并且可以看到正则化如何帮助解决过拟合的问题。"
   ]
  },
  {
   "cell_type": "markdown",
   "metadata": {},
   "source": [
    "## Regularized Cost function"
   ]
  },
  {
   "cell_type": "code",
   "execution_count": null,
   "metadata": {
    "ExecuteTime": {
     "end_time": "2021-05-01T15:51:27.934911Z",
     "start_time": "2021-05-01T15:51:27.919920Z"
    }
   },
   "outputs": [],
   "source": [
    "# 这里因为做特征映射的时候已经添加了偏置项，所以不用手动添加了。\n",
    "X = np.array(_data2)\n",
    "y = np.array(data2['Accepted'])\n",
    "theta = np.zeros(X.shape[1])"
   ]
  },
  {
   "cell_type": "code",
   "execution_count": null,
   "metadata": {
    "ExecuteTime": {
     "end_time": "2021-05-01T15:51:27.950801Z",
     "start_time": "2021-05-01T15:51:27.935868Z"
    }
   },
   "outputs": [],
   "source": [
    "def costReg(theta, X, y, l=1):\n",
    "    # 不惩罚第一项\n",
    "    _theta = theta[1:]\n",
    "    reg = (l/(2*len(y)))*(_theta.dot(_theta.T))\n",
    "    return cost(theta, X, y)+reg"
   ]
  },
  {
   "cell_type": "code",
   "execution_count": null,
   "metadata": {
    "ExecuteTime": {
     "end_time": "2021-05-01T15:51:27.966776Z",
     "start_time": "2021-05-01T15:51:27.952833Z"
    }
   },
   "outputs": [],
   "source": [
    "costReg(theta, X, y, l=1) "
   ]
  },
  {
   "cell_type": "markdown",
   "metadata": {},
   "source": [
    "## Regularized gradient"
   ]
  },
  {
   "cell_type": "code",
   "execution_count": null,
   "metadata": {
    "ExecuteTime": {
     "end_time": "2021-05-01T15:51:27.981758Z",
     "start_time": "2021-05-01T15:51:27.967792Z"
    }
   },
   "outputs": [],
   "source": [
    "def gradientReg(theta,X,y,l=1):\n",
    "    reg=(l/len(y))*theta\n",
    "    reg[0]=0\n",
    "    return gradient(theta,X,y)+reg"
   ]
  },
  {
   "cell_type": "code",
   "execution_count": null,
   "metadata": {
    "ExecuteTime": {
     "end_time": "2021-05-01T15:51:27.996679Z",
     "start_time": "2021-05-01T15:51:27.983749Z"
    }
   },
   "outputs": [],
   "source": [
    "gradientReg(theta, X, y, 1)"
   ]
  },
  {
   "cell_type": "markdown",
   "metadata": {},
   "source": [
    "## Learning parameters"
   ]
  },
  {
   "cell_type": "code",
   "execution_count": null,
   "metadata": {
    "ExecuteTime": {
     "end_time": "2021-05-01T15:51:28.027598Z",
     "start_time": "2021-05-01T15:51:27.998674Z"
    }
   },
   "outputs": [],
   "source": [
    "result2 = opt.fmin_tnc(func=costReg, x0=theta, fprime=gradientReg, args=(X, y, 2))\n",
    "result2"
   ]
  },
  {
   "cell_type": "code",
   "execution_count": null,
   "metadata": {
    "ExecuteTime": {
     "end_time": "2021-05-01T15:51:28.104391Z",
     "start_time": "2021-05-01T15:51:28.030590Z"
    }
   },
   "outputs": [],
   "source": [
    "# 使用高级Python库scikit-learn来解决这个问题\n",
    "from sklearn import linear_model # 调用sklearn的线性回归包\n",
    "model = linear_model.LogisticRegression(penalty='l2', C=1.0)\n",
    "model.fit(X, y.ravel())\n",
    "\n",
    "linear_model.LogisticRegression(C=1.0, class_weight=None, dual=False, fit_intercept=True,\n",
    "          intercept_scaling=1, max_iter=100, multi_class='ovr', n_jobs=1,\n",
    "          penalty='l2', random_state=None, solver='liblinear', tol=0.0001,\n",
    "          verbose=0, warm_start=False)\n",
    "\n",
    "model.score(X, y) "
   ]
  },
  {
   "cell_type": "markdown",
   "metadata": {},
   "source": [
    "## Evaluating logistic regression"
   ]
  },
  {
   "cell_type": "code",
   "execution_count": null,
   "metadata": {
    "ExecuteTime": {
     "end_time": "2021-05-01T15:51:28.120387Z",
     "start_time": "2021-05-01T15:51:28.105425Z"
    }
   },
   "outputs": [],
   "source": [
    "final_theta = result2[0]\n",
    "predictions = predict(final_theta, X)\n",
    "correct = [1 if a==b else 0 for (a, b) in zip(predictions, y)]\n",
    "accuracy = sum(correct) / len(correct)\n",
    "accuracy"
   ]
  },
  {
   "cell_type": "code",
   "execution_count": null,
   "metadata": {
    "ExecuteTime": {
     "end_time": "2021-05-01T15:51:28.136372Z",
     "start_time": "2021-05-01T15:51:28.122344Z"
    }
   },
   "outputs": [],
   "source": [
    "print(classification_report(y, predictions))"
   ]
  },
  {
   "cell_type": "markdown",
   "metadata": {},
   "source": [
    "## Decision boundary（决策边界）"
   ]
  },
  {
   "cell_type": "code",
   "execution_count": null,
   "metadata": {
    "ExecuteTime": {
     "end_time": "2021-05-01T15:51:28.381030Z",
     "start_time": "2021-05-01T15:51:28.137338Z"
    }
   },
   "outputs": [],
   "source": [
    "x=np.linspace(-1,1.5,250)\n",
    "xx,yy=np.meshgrid(x,x)\n",
    "\n",
    "z=np.array(feature_mapping(xx.ravel(),yy.ravel(),6))\n",
    "z=z.dot(final_theta)\n",
    "z=z.reshape(xx.shape)\n",
    "\n",
    "plot_data2()\n",
    "plt.contour(xx,yy,z,0)\n",
    "plt.ylim(-0.8,1.2)"
   ]
  },
  {
   "cell_type": "code",
   "execution_count": null,
   "metadata": {},
   "outputs": [],
   "source": []
  }
 ],
 "metadata": {
  "kernelspec": {
   "display_name": "Python 3",
   "language": "python",
   "name": "python3"
  },
  "language_info": {
   "codemirror_mode": {
    "name": "ipython",
    "version": 3
   },
   "file_extension": ".py",
   "mimetype": "text/x-python",
   "name": "python",
   "nbconvert_exporter": "python",
   "pygments_lexer": "ipython3",
   "version": "3.8.5"
  },
  "toc": {
   "base_numbering": 1,
   "nav_menu": {},
   "number_sections": true,
   "sideBar": true,
   "skip_h1_title": false,
   "title_cell": "Table of Contents",
   "title_sidebar": "Contents",
   "toc_cell": false,
   "toc_position": {},
   "toc_section_display": true,
   "toc_window_display": false
  },
  "varInspector": {
   "cols": {
    "lenName": 16,
    "lenType": 16,
    "lenVar": 40
   },
   "kernels_config": {
    "python": {
     "delete_cmd_postfix": "",
     "delete_cmd_prefix": "del ",
     "library": "var_list.py",
     "varRefreshCmd": "print(var_dic_list())"
    },
    "r": {
     "delete_cmd_postfix": ") ",
     "delete_cmd_prefix": "rm(",
     "library": "var_list.r",
     "varRefreshCmd": "cat(var_dic_list()) "
    }
   },
   "oldHeight": 194.4,
   "position": {
    "height": "40px",
    "left": "27.3875px",
    "right": "20px",
    "top": "164px",
    "width": "279px"
   },
   "types_to_exclude": [
    "module",
    "function",
    "builtin_function_or_method",
    "instance",
    "_Feature"
   ],
   "varInspector_section_display": "none",
   "window_display": true
  }
 },
 "nbformat": 4,
 "nbformat_minor": 2
}
